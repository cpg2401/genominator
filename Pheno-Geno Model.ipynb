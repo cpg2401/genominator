{
 "cells": [
  {
   "cell_type": "markdown",
   "id": "f8b0e956",
   "metadata": {
    "papermill": {
     "duration": 0.0047,
     "end_time": "2023-06-13T08:28:46.560952",
     "exception": false,
     "start_time": "2023-06-13T08:28:46.556252",
     "status": "completed"
    },
    "tags": []
   },
   "source": [
    "this first part is just binary encoding"
   ]
  },
  {
   "cell_type": "code",
   "execution_count": 1,
   "id": "e3aa785e",
   "metadata": {
    "_cell_guid": "b1076dfc-b9ad-4769-8c92-a6c4dae69d19",
    "_uuid": "8f2839f25d086af736a60e9eeb907d3b93b6e0e5",
    "execution": {
     "iopub.execute_input": "2023-06-13T08:28:46.571324Z",
     "iopub.status.busy": "2023-06-13T08:28:46.570239Z",
     "iopub.status.idle": "2023-06-13T08:31:43.823863Z",
     "shell.execute_reply": "2023-06-13T08:31:43.819682Z"
    },
    "papermill": {
     "duration": 177.261749,
     "end_time": "2023-06-13T08:31:43.826835",
     "exception": false,
     "start_time": "2023-06-13T08:28:46.565086",
     "status": "completed"
    },
    "tags": []
   },
   "outputs": [
    {
     "name": "stdout",
     "output_type": "stream",
     "text": [
      "/kaggle/input/rice-genotype/dataset/genotype_data/12k_ld_imputed.csv\n",
      "/kaggle/input/rice-genotype/dataset/genotype_data/12k_unimputed.csv\n",
      "/kaggle/input/rice-genotype/dataset/trait_data/readme.txt\n",
      "/kaggle/input/rice-genotype/dataset/trait_data/quantitative_traits.csv\n",
      "Loading datasets...  Done\n",
      "Cleaning up...  Done\n"
     ]
    }
   ],
   "source": [
    "import numpy as np\n",
    "import pandas as pd\n",
    "import os\n",
    "import matplotlib as plt\n",
    "from tqdm import tqdm\n",
    "import math\n",
    "\n",
    "for dirname, _, filenames in os.walk(\"/kaggle/input\"):\n",
    "    for filename in filenames:\n",
    "        print(os.path.join(dirname, filename))\n",
    "\n",
    "print(\"Loading datasets...  \", end = \"\")\n",
    "gdf = pd.read_csv(\"/kaggle/input/rice-genotype/dataset/genotype_data/12k_ld_imputed.csv\")\n",
    "tdf = pd.read_csv(\"/kaggle/input/rice-genotype/dataset/trait_data/quantitative_traits.csv\")\n",
    "gdf = gdf.rename(columns = {gdf.columns[0]: \"ID\"}).set_index(\"ID\")\n",
    "tdf = tdf.rename(columns = {tdf.columns[0]: \"ID\"}).set_index(\"ID\").fillna(method = \"ffill\")\n",
    "gdf = gdf[gdf.index.isin(tdf.index.values)]\n",
    "print(\"Done\")\n",
    "\n",
    "enc_map = {0.0: \"00\", -1.0: \"01\", 1.0: \"10\"}\n",
    "loc_map = list(gdf.columns)\n",
    "enc_op = np.array(list(enc_map.keys()))\n",
    "\n",
    "print(\"Cleaning up...  \", end = \"\")\n",
    "cround = np.vectorize(lambda val: enc_op[np.abs(enc_op - val).argmin()] if val not in enc_op else val)\n",
    "gdf = pd.DataFrame(cround(gdf.values), columns = gdf.columns, index = gdf.index)\n",
    "print(\"Done\")"
   ]
  },
  {
   "cell_type": "code",
   "execution_count": 2,
   "id": "5bda0ecc",
   "metadata": {
    "execution": {
     "iopub.execute_input": "2023-06-13T08:31:43.835860Z",
     "iopub.status.busy": "2023-06-13T08:31:43.835547Z",
     "iopub.status.idle": "2023-06-13T08:31:43.850560Z",
     "shell.execute_reply": "2023-06-13T08:31:43.849403Z"
    },
    "papermill": {
     "duration": 0.021885,
     "end_time": "2023-06-13T08:31:43.852502",
     "exception": false,
     "start_time": "2023-06-13T08:31:43.830617",
     "status": "completed"
    },
    "tags": []
   },
   "outputs": [
    {
     "name": "stdout",
     "output_type": "stream",
     "text": [
      "COLUMN NAME\tMIN\tMAX\tRANGE\tMEAN\n",
      "---------------------------------------------\n",
      "CUDI_REPRO     \t2.0\t9.1\t7\t5\n",
      "CULT_REPRO     \t27.0\t204.0\t177\t114\n",
      "CUNO_REPRO     \t5.0\t40.0\t35\t16\n",
      "GRLT     \t4.7\t12.7\t8\t9\n",
      "GRWD     \t1.5\t4.4\t3\t3\n",
      "GRWT100     \t1.0\t5.0\t4\t2\n",
      "HDG_80HEAD     \t50.0\t184.0\t134\t102\n",
      "LIGLT     \t4.0\t47.0\t43\t18\n",
      "LLT     \t13.0\t93.0\t80\t55\n",
      "LWD     \t0.4\t2.5\t2\t1\n",
      "PLT_POST     \t13.0\t37.0\t24\t25\n",
      "SDHT     \t12.0\t74.0\t62\t39\n"
     ]
    }
   ],
   "source": [
    "trait_map = {}\n",
    "\n",
    "print(\"COLUMN NAME\\tMIN\\tMAX\\tRANGE\\tMEAN\\n---------------------------------------------\")\n",
    "for column in tdf.columns:\n",
    "    print(f\"{column}     \\t{tdf[column].min()}\\t{tdf[column].max()}\\t{round(tdf[column].max() - tdf[column].min())}\\t{round(tdf[column].mean())}\")\n",
    "    \n",
    "    max_val = math.ceil(tdf[column].max())\n",
    "    #req_dec = not all(np.mod(x, 1) == 0 for x in tdf[column])\n",
    "    req_dec = max_val < 15\n",
    "    if (req_dec): max_val *= 10\n",
    "    bit_length = round(math.log([n for n in [2**n for n in range(1, 100)] if n > max_val][0], 2))\n",
    "    trait_map.update({column: {\"bits\": bit_length, \"dec\": req_dec}})"
   ]
  },
  {
   "cell_type": "code",
   "execution_count": 3,
   "id": "12a45e04",
   "metadata": {
    "execution": {
     "iopub.execute_input": "2023-06-13T08:31:43.862582Z",
     "iopub.status.busy": "2023-06-13T08:31:43.861626Z",
     "iopub.status.idle": "2023-06-13T08:31:43.871620Z",
     "shell.execute_reply": "2023-06-13T08:31:43.870790Z"
    },
    "papermill": {
     "duration": 0.017347,
     "end_time": "2023-06-13T08:31:43.873790",
     "exception": false,
     "start_time": "2023-06-13T08:31:43.856443",
     "status": "completed"
    },
    "tags": []
   },
   "outputs": [],
   "source": [
    "def encode_gene(row):\n",
    "    string = \"\"\n",
    "    for value in row:\n",
    "        string += enc_map[float(value)]\n",
    "    return string\n",
    "\n",
    "def decode_gene(b_string):\n",
    "    gene_map = {}\n",
    "    for i in range(0, len(string), 2):\n",
    "        target_encoded = string[i:i + 2]\n",
    "        gene = list(enc_map.keys())[list(enc_map.values()).index(target_encoded)]\n",
    "        gene_map.update({loc_map[round(i/2)]: gene})\n",
    "    return gene_map\n",
    "\n",
    "def encode_trait(row):\n",
    "    string = \"\"\n",
    "    for column in trait_map.keys():\n",
    "        bits = trait_map[column][\"bits\"]\n",
    "        dec = trait_map[column][\"dec\"]\n",
    "        val = round(row[column]*(10 if dec else 1))\n",
    "        string += \"{0:b}\".format(val).zfill(bits)\n",
    "    return string\n",
    "\n",
    "def decode_trait(b_string):\n",
    "    dec_map = {}\n",
    "    p = 0\n",
    "    for column in trait_map.keys():\n",
    "        bits = trait_map[column][\"bits\"]\n",
    "        dec = trait_map[column][\"dec\"]\n",
    "        b_seq = b_string[p:p + bits]\n",
    "        trait = int(b_seq, 2)/(10 if dec else 1)\n",
    "        dec_map.update({column: trait})\n",
    "        p += bits\n",
    "    return dec_map"
   ]
  },
  {
   "cell_type": "code",
   "execution_count": 4,
   "id": "f4e28898",
   "metadata": {
    "execution": {
     "iopub.execute_input": "2023-06-13T08:31:43.882665Z",
     "iopub.status.busy": "2023-06-13T08:31:43.882409Z",
     "iopub.status.idle": "2023-06-13T08:31:59.692952Z",
     "shell.execute_reply": "2023-06-13T08:31:59.691907Z"
    },
    "papermill": {
     "duration": 15.81753,
     "end_time": "2023-06-13T08:31:59.695186",
     "exception": false,
     "start_time": "2023-06-13T08:31:43.877656",
     "status": "completed"
    },
    "tags": []
   },
   "outputs": [
    {
     "name": "stdout",
     "output_type": "stream",
     "text": [
      "Generating master...  \n"
     ]
    },
    {
     "name": "stderr",
     "output_type": "stream",
     "text": [
      "100%|██████████| 2266/2266 [00:15<00:00, 143.52it/s]"
     ]
    },
    {
     "name": "stdout",
     "output_type": "stream",
     "text": [
      "Done\n",
      "                                                     GENE_STRING  \\\n",
      "IRIS_313.7684  1000011010100100100000100010101010010100100100...   \n",
      "IRIS_313.7685  1000010000000100100010100010101010010101100100...   \n",
      "IRIS_313.7688  1000010010100100010001010000010110001010010110...   \n",
      "IRIS_313.7689  1001010010100100100010100010101010010100100100...   \n",
      "IRIS_313.7690  1000010010000000100000100001010101100110100101...   \n",
      "\n",
      "                                                    TRAIT_STRING  \n",
      "IRIS_313.7684  0101000001111000100110101100101100001010101001...  \n",
      "IRIS_313.7685  0101000001110100110000101101001010101011001010...  \n",
      "IRIS_313.7688  0101000010100110100000101110101101001100101011...  \n",
      "IRIS_313.7689  0101000010001000101010101100101100001100001010...  \n",
      "IRIS_313.7690  0011110010001110100010110010001110001011101001...  \n"
     ]
    },
    {
     "name": "stderr",
     "output_type": "stream",
     "text": [
      "\n"
     ]
    }
   ],
   "source": [
    "master = pd.DataFrame(columns = [\"GENE_STRING\", \"TRAIT_STRING\"])\n",
    "\n",
    "print(\"Generating master...  \")\n",
    "for index, row in tqdm(gdf.iterrows(), total = gdf.shape[0]):\n",
    "    master.loc[index] = [encode_gene(row), encode_trait(tdf.loc[index])]\n",
    "print(\"Done\")\n",
    "\n",
    "print(master.head())"
   ]
  },
  {
   "cell_type": "code",
   "execution_count": 5,
   "id": "336270e8",
   "metadata": {
    "execution": {
     "iopub.execute_input": "2023-06-13T08:31:59.727684Z",
     "iopub.status.busy": "2023-06-13T08:31:59.727079Z",
     "iopub.status.idle": "2023-06-13T08:31:59.734129Z",
     "shell.execute_reply": "2023-06-13T08:31:59.733066Z"
    },
    "papermill": {
     "duration": 0.025505,
     "end_time": "2023-06-13T08:31:59.736146",
     "exception": false,
     "start_time": "2023-06-13T08:31:59.710641",
     "status": "completed"
    },
    "tags": []
   },
   "outputs": [
    {
     "name": "stdout",
     "output_type": "stream",
     "text": [
      "Generating samples...\n",
      "2255 input samples, 2255 output samples\n"
     ]
    }
   ],
   "source": [
    "predict_reserve = 10\n",
    "\n",
    "print(\"Generating samples...\")\n",
    "b_inputs = master[\"GENE_STRING\"].tolist()[predict_reserve + 1:]\n",
    "b_outputs = master[\"TRAIT_STRING\"].tolist()[predict_reserve + 1:]\n",
    "print(f\"{len(b_inputs)} input samples, {len(b_outputs)} output samples\")"
   ]
  },
  {
   "cell_type": "code",
   "execution_count": 6,
   "id": "f87c5329",
   "metadata": {
    "execution": {
     "iopub.execute_input": "2023-06-13T08:31:59.768328Z",
     "iopub.status.busy": "2023-06-13T08:31:59.768013Z",
     "iopub.status.idle": "2023-06-13T08:32:50.143478Z",
     "shell.execute_reply": "2023-06-13T08:32:50.142334Z"
    },
    "papermill": {
     "duration": 50.393981,
     "end_time": "2023-06-13T08:32:50.145577",
     "exception": false,
     "start_time": "2023-06-13T08:31:59.751596",
     "status": "completed"
    },
    "tags": []
   },
   "outputs": [
    {
     "name": "stderr",
     "output_type": "stream",
     "text": [
      "/opt/conda/lib/python3.10/site-packages/tensorflow_io/python/ops/__init__.py:98: UserWarning: unable to load libtensorflow_io_plugins.so: unable to open file: libtensorflow_io_plugins.so, from paths: ['/opt/conda/lib/python3.10/site-packages/tensorflow_io/python/ops/libtensorflow_io_plugins.so']\n",
      "caused by: ['/opt/conda/lib/python3.10/site-packages/tensorflow_io/python/ops/libtensorflow_io_plugins.so: undefined symbol: _ZN3tsl6StatusC1EN10tensorflow5error4CodeESt17basic_string_viewIcSt11char_traitsIcEENS_14SourceLocationE']\n",
      "  warnings.warn(f\"unable to load libtensorflow_io_plugins.so: {e}\")\n",
      "/opt/conda/lib/python3.10/site-packages/tensorflow_io/python/ops/__init__.py:104: UserWarning: file system plugins are not loaded: unable to open file: libtensorflow_io.so, from paths: ['/opt/conda/lib/python3.10/site-packages/tensorflow_io/python/ops/libtensorflow_io.so']\n",
      "caused by: ['/opt/conda/lib/python3.10/site-packages/tensorflow_io/python/ops/libtensorflow_io.so: undefined symbol: _ZTVN10tensorflow13GcsFileSystemE']\n",
      "  warnings.warn(f\"file system plugins are not loaded: {e}\")\n"
     ]
    },
    {
     "name": "stdout",
     "output_type": "stream",
     "text": [
      "Epoch 1/10\n",
      "57/57 [==============================] - 8s 18ms/step - loss: 1.3666 - accuracy: 0.0000e+00\n",
      "Epoch 2/10\n",
      "57/57 [==============================] - 1s 13ms/step - loss: 0.5610 - accuracy: 0.0200\n",
      "Epoch 3/10\n",
      "57/57 [==============================] - 1s 12ms/step - loss: 0.4700 - accuracy: 0.0283\n",
      "Epoch 4/10\n",
      "57/57 [==============================] - 1s 12ms/step - loss: 0.3684 - accuracy: 0.0139\n",
      "Epoch 5/10\n",
      "57/57 [==============================] - 1s 12ms/step - loss: 0.2604 - accuracy: 0.0233\n",
      "Epoch 6/10\n",
      "57/57 [==============================] - 1s 12ms/step - loss: 0.1643 - accuracy: 0.0127\n",
      "Epoch 7/10\n",
      "57/57 [==============================] - 1s 12ms/step - loss: 0.0990 - accuracy: 0.0116\n",
      "Epoch 8/10\n",
      "57/57 [==============================] - 1s 12ms/step - loss: 0.0590 - accuracy: 0.0122\n",
      "Epoch 9/10\n",
      "57/57 [==============================] - 1s 12ms/step - loss: 0.0354 - accuracy: 0.0205\n",
      "Epoch 10/10\n",
      "57/57 [==============================] - 1s 12ms/step - loss: 0.0235 - accuracy: 0.0139\n",
      "15/15 [==============================] - 0s 7ms/step - loss: 0.8870 - accuracy: 0.0089\n",
      "Test Loss: 0.8869703412055969\n",
      "Test Accuracy: 0.008869179524481297\n"
     ]
    }
   ],
   "source": [
    "from tensorflow import keras\n",
    "from sklearn.model_selection import train_test_split\n",
    "\n",
    "inputs = np.array([[int(digit) for digit in string] for string in b_inputs])\n",
    "outputs = np.array([[int(digit) for digit in string] for string in b_outputs])\n",
    "\n",
    "train_inputs, test_inputs, train_outputs, test_outputs = train_test_split(inputs, outputs, test_size = 0.2, random_state = 42)\n",
    "train_inputs = np.reshape(train_inputs, (train_inputs.shape[0], train_inputs.shape[1], 1))\n",
    "test_inputs = np.reshape(test_inputs, (test_inputs.shape[0], test_inputs.shape[1], 1))\n",
    "\n",
    "model = keras.Sequential([\n",
    "    keras.layers.Conv1D(16, kernel_size=3, activation='relu', input_shape=(train_inputs.shape[1], 1)),\n",
    "    keras.layers.MaxPooling1D(pool_size=2),\n",
    "    keras.layers.Flatten(),\n",
    "    keras.layers.Dense(train_outputs.shape[1], activation='sigmoid')\n",
    "])\n",
    "\n",
    "model.compile(optimizer = \"adam\", loss = \"binary_crossentropy\", metrics = [\"accuracy\"])\n",
    "model.fit(train_inputs, train_outputs, epochs = 10, batch_size = 32)\n",
    "\n",
    "loss, accuracy = model.evaluate(test_inputs, test_outputs)\n",
    "print(\"Test Loss:\", loss)\n",
    "print(\"Test Accuracy:\", accuracy)"
   ]
  },
  {
   "cell_type": "code",
   "execution_count": 7,
   "id": "4bf2d6ef",
   "metadata": {
    "execution": {
     "iopub.execute_input": "2023-06-13T08:32:50.200483Z",
     "iopub.status.busy": "2023-06-13T08:32:50.199656Z",
     "iopub.status.idle": "2023-06-13T08:32:50.431209Z",
     "shell.execute_reply": "2023-06-13T08:32:50.430103Z"
    },
    "papermill": {
     "duration": 0.260856,
     "end_time": "2023-06-13T08:32:50.433319",
     "exception": false,
     "start_time": "2023-06-13T08:32:50.172463",
     "status": "completed"
    },
    "tags": []
   },
   "outputs": [
    {
     "name": "stdout",
     "output_type": "stream",
     "text": [
      "1/1 [==============================] - 0s 100ms/step\n",
      "Actual Labels: [4.0, 60.0, 19.0, 8.9, 2.4, 2.1, 75.0, 14.0, 39.0, 1.0, 25.0, 30.0]\n",
      "Predicted Labels: [5.8, 74.0, 19.0, 9.0, 2.8, 2.4, 88.0, 27.0, 34.0, 1.2, 19.0, 50.0]\n"
     ]
    }
   ],
   "source": [
    "test_input = [master.loc[master.index[n]][\"GENE_STRING\"] for n in range(predict_reserve)]\n",
    "test_inputs = np.array([[int(digit) for digit in string] for string in test_input])\n",
    "test_inputs = np.reshape(test_inputs, (test_inputs.shape[0], test_inputs.shape[1], 1))\n",
    "predictions = model.predict(test_inputs)\n",
    "predicted_strings = [decode_trait(\"\".join(str(int(round(value))) for value in prediction)) for prediction in predictions]\n",
    "actual_strings = [decode_trait(master.loc[master.index[n]][\"TRAIT_STRING\"]) for n in range(predict_reserve)]\n",
    "print(\"Actual Labels:\", list(actual_strings[0].values()))\n",
    "print(\"Predicted Labels:\", list(predicted_strings[0].values()))"
   ]
  },
  {
   "cell_type": "markdown",
   "id": "bcf6287f",
   "metadata": {
    "papermill": {
     "duration": 0.025699,
     "end_time": "2023-06-13T08:32:50.485334",
     "exception": false,
     "start_time": "2023-06-13T08:32:50.459635",
     "status": "completed"
    },
    "tags": []
   },
   "source": [
    "Different approach - no binary encoding"
   ]
  },
  {
   "cell_type": "code",
   "execution_count": 8,
   "id": "0317b145",
   "metadata": {
    "execution": {
     "iopub.execute_input": "2023-06-13T08:32:50.539181Z",
     "iopub.status.busy": "2023-06-13T08:32:50.538386Z",
     "iopub.status.idle": "2023-06-13T08:33:13.239647Z",
     "shell.execute_reply": "2023-06-13T08:33:13.238644Z"
    },
    "papermill": {
     "duration": 22.730416,
     "end_time": "2023-06-13T08:33:13.241938",
     "exception": false,
     "start_time": "2023-06-13T08:32:50.511522",
     "status": "completed"
    },
    "tags": []
   },
   "outputs": [
    {
     "name": "stdout",
     "output_type": "stream",
     "text": [
      "Epoch 1/20\n",
      "114/114 [==============================] - 3s 5ms/step - loss: 2567.7078 - accuracy: 0.2754\n",
      "Epoch 2/20\n",
      "114/114 [==============================] - 1s 5ms/step - loss: 2416.8369 - accuracy: 0.3642\n",
      "Epoch 3/20\n",
      "114/114 [==============================] - 1s 5ms/step - loss: 2109.0500 - accuracy: 0.4669\n",
      "Epoch 4/20\n",
      "114/114 [==============================] - 1s 5ms/step - loss: 1675.9446 - accuracy: 0.5579\n",
      "Epoch 5/20\n",
      "114/114 [==============================] - 1s 5ms/step - loss: 1225.2252 - accuracy: 0.6280\n",
      "Epoch 6/20\n",
      "114/114 [==============================] - 1s 5ms/step - loss: 834.8989 - accuracy: 0.6959\n",
      "Epoch 7/20\n",
      "114/114 [==============================] - 1s 5ms/step - loss: 540.7782 - accuracy: 0.7103\n",
      "Epoch 8/20\n",
      "114/114 [==============================] - 1s 5ms/step - loss: 338.1724 - accuracy: 0.7362\n",
      "Epoch 9/20\n",
      "114/114 [==============================] - 1s 6ms/step - loss: 213.5275 - accuracy: 0.7235\n",
      "Epoch 10/20\n",
      "114/114 [==============================] - 1s 4ms/step - loss: 144.2731 - accuracy: 0.7318\n",
      "Epoch 11/20\n",
      "114/114 [==============================] - 1s 4ms/step - loss: 110.2962 - accuracy: 0.7395\n",
      "Epoch 12/20\n",
      "114/114 [==============================] - 1s 5ms/step - loss: 96.1647 - accuracy: 0.7362\n",
      "Epoch 13/20\n",
      "114/114 [==============================] - 1s 4ms/step - loss: 86.9896 - accuracy: 0.7230\n",
      "Epoch 14/20\n",
      "114/114 [==============================] - 1s 5ms/step - loss: 85.3845 - accuracy: 0.7285\n",
      "Epoch 15/20\n",
      "114/114 [==============================] - 1s 5ms/step - loss: 83.8231 - accuracy: 0.7384\n",
      "Epoch 16/20\n",
      "114/114 [==============================] - 1s 5ms/step - loss: 81.6230 - accuracy: 0.7489\n",
      "Epoch 17/20\n",
      "114/114 [==============================] - 1s 5ms/step - loss: 81.9324 - accuracy: 0.7544\n",
      "Epoch 18/20\n",
      "114/114 [==============================] - 1s 5ms/step - loss: 83.5007 - accuracy: 0.7577\n",
      "Epoch 19/20\n",
      "114/114 [==============================] - 1s 5ms/step - loss: 76.8084 - accuracy: 0.7688\n",
      "Epoch 20/20\n",
      "114/114 [==============================] - 1s 5ms/step - loss: 77.3042 - accuracy: 0.7710\n",
      "15/15 [==============================] - 0s 3ms/step - loss: 84.3986 - accuracy: 0.7269\n",
      "Test Loss: 84.39857482910156\n",
      "Test Accuracy: 0.7268722653388977\n"
     ]
    }
   ],
   "source": [
    "import pandas as pd\n",
    "import numpy as np\n",
    "from sklearn.model_selection import train_test_split\n",
    "from tensorflow import keras\n",
    "# Merge the SNP and trait data based on the sample ID\n",
    "merged_data = gdf.merge(tdf, on=\"ID\")\n",
    "\n",
    "# Extract SNP features and trait labels\n",
    "snp_features = merged_data.iloc[:, :-12].values\n",
    "trait_labels = merged_data.iloc[:, -12:].values  # Assuming the last 12 columns are trait labels\n",
    "\n",
    "# Step 2: Split the data into training and testing sets\n",
    "train_features, test_features, train_labels, test_labels = train_test_split(\n",
    "    snp_features, trait_labels, test_size=0.2, random_state=42\n",
    ")\n",
    "\n",
    "# Step 3: Design and train the model\n",
    "model = keras.Sequential([\n",
    "    keras.layers.Dense(128, activation='relu', input_shape=(train_features.shape[1],)),\n",
    "    keras.layers.BatchNormalization(),\n",
    "    keras.layers.Dropout(0.2),\n",
    "    keras.layers.Dense(64, activation='relu'),\n",
    "    keras.layers.BatchNormalization(),\n",
    "    keras.layers.Dropout(0.2),\n",
    "    keras.layers.Dense(train_labels.shape[1])\n",
    "])\n",
    "\n",
    "model.compile(optimizer='adam', loss='mean_squared_error', metrics = [\"accuracy\"])  # Use appropriate loss function based on your task\n",
    "\n",
    "model.fit(train_features, train_labels, epochs=20, batch_size=16)\n",
    "\n",
    "# Step 4: Evaluate the model\n",
    "loss, accuracy = model.evaluate(test_features, test_labels)\n",
    "print(\"Test Loss:\", loss)\n",
    "print(\"Test Accuracy:\", accuracy)"
   ]
  },
  {
   "cell_type": "code",
   "execution_count": 9,
   "id": "b5c6b8c2",
   "metadata": {
    "execution": {
     "iopub.execute_input": "2023-06-13T08:33:13.338288Z",
     "iopub.status.busy": "2023-06-13T08:33:13.337957Z",
     "iopub.status.idle": "2023-06-13T08:33:13.480202Z",
     "shell.execute_reply": "2023-06-13T08:33:13.478993Z"
    },
    "papermill": {
     "duration": 0.189943,
     "end_time": "2023-06-13T08:33:13.482404",
     "exception": false,
     "start_time": "2023-06-13T08:33:13.292461",
     "status": "completed"
    },
    "tags": []
   },
   "outputs": [
    {
     "name": "stdout",
     "output_type": "stream",
     "text": [
      "1/1 [==============================] - 0s 86ms/step\n",
      "Actual Labels: [  4.  112.   11.    7.7   2.9   1.9  82.   19.   46.    1.3  20.   42. ]\n",
      "Predicted Labels: [4.6, 95.0, 15.0, 8.6, 3.4, 2.8, 82.8, 13.8, 47.5, 1.4, 23.4, 33.8]\n"
     ]
    }
   ],
   "source": [
    "sample = test_features[0].reshape(1, -1)\n",
    "actual_labels = test_labels[0]\n",
    "prediction = model.predict(sample)\n",
    "print(\"Actual Labels:\", actual_labels)\n",
    "print(\"Predicted Labels:\", [round(p, 1) for p in prediction[0]])"
   ]
  }
 ],
 "metadata": {
  "kernelspec": {
   "display_name": "Python 3",
   "language": "python",
   "name": "python3"
  },
  "language_info": {
   "codemirror_mode": {
    "name": "ipython",
    "version": 3
   },
   "file_extension": ".py",
   "mimetype": "text/x-python",
   "name": "python",
   "nbconvert_exporter": "python",
   "pygments_lexer": "ipython3",
   "version": "3.10.10"
  },
  "papermill": {
   "default_parameters": {},
   "duration": 280.814499,
   "end_time": "2023-06-13T08:33:16.781662",
   "environment_variables": {},
   "exception": null,
   "input_path": "__notebook__.ipynb",
   "output_path": "__notebook__.ipynb",
   "parameters": {},
   "start_time": "2023-06-13T08:28:35.967163",
   "version": "2.4.0"
  }
 },
 "nbformat": 4,
 "nbformat_minor": 5
}
